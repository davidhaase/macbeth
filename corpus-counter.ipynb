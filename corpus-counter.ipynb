{
 "cells": [
  {
   "cell_type": "code",
   "execution_count": 48,
   "metadata": {},
   "outputs": [],
   "source": [
    "class Corpus:\n",
    "    def __init__(self, url='', pattern=''):\n",
    "        self.raw_words = ''\n",
    "        self.word_list = []\n",
    "        self.word_counts = {}\n",
    "        self.x_values = []\n",
    "        self.y_values = []\n",
    "        self.url = ''\n",
    "        self.exceptions_list = []\n",
    "        self.url = url\n",
    "        self.pattern = pattern\n",
    "        \n",
    "    def clean(self, pattern=None):\n",
    "        import re\n",
    "        \n",
    "        if pattern == None:\n",
    "            pattern = self.pattern\n",
    "        \n",
    "        self.word_list = re.findall(pattern, self.raw_words)\n",
    "    \n",
    "    def count_words(self):\n",
    "        for word in self.word_list:\n",
    "            lc_word = word.lower()\n",
    "            if lc_word in self.exceptions_list:\n",
    "                continue\n",
    "                \n",
    "            if (lc_word in self.word_counts.keys()):\n",
    "                self.word_counts[lc_word] += 1                \n",
    "            else:\n",
    "                self.word_counts[lc_word] = 1 \n",
    "    \n",
    "    def get_unique_word_count(self):\n",
    "        return len(self.word_counts)\n",
    "    \n",
    "    def get_x_values(self):\n",
    "        return self.word_counts.keys()\n",
    "    \n",
    "    def get_y_values(self):\n",
    "        return self.word_counts.values()\n",
    "    \n",
    "    def fetch_words(self, url=None):\n",
    "        import requests\n",
    "        import re\n",
    "        \n",
    "        if url == None:\n",
    "            url = self.url\n",
    "        try:\n",
    "            words = requests.get(url).text\n",
    "            \n",
    "        except:\n",
    "            print ('[URL] Unable to connect to: ' + url)\n",
    "        \n",
    "        acts = words.split('Actus')\n",
    "        for i in range(1,len(acts)):\n",
    "            self.raw_words += acts[i]\n",
    "            \n",
    "    def get_sorted_list(self, descending=True):\n",
    "        if (self.get_unique_word_count()):\n",
    "            return sorted(self.word_counts.items(), key=lambda word_count: word_count[1], reverse=descending)\n",
    "    \n",
    "    def plotify (self, x_range=10):\n",
    "        import plotly\n",
    "        plotly.offline.init_notebook_mode(connected=True)\n",
    "        \n",
    "        x_values = []\n",
    "        y_values = []\n",
    "        if (len(self.word_counts.keys())):\n",
    "            counts_by_value = self.get_sorted_list()\n",
    "            for x,y in counts_by_value[0:x_range]:\n",
    "                x_values.append(x)\n",
    "                y_values.append(y)\n",
    "            trace = {'x': x_values, 'y': y_values, 'text': x_values, 'type': 'bar'}\n",
    "            plotly.offline.iplot([trace])\n",
    "\n",
    "    \n",
    "    \n",
    "    \n"
   ]
  },
  {
   "cell_type": "code",
   "execution_count": 52,
   "metadata": {},
   "outputs": [
    {
     "data": {
      "text/html": [
       "<script>requirejs.config({paths: { 'plotly': ['https://cdn.plot.ly/plotly-latest.min']},});if(!window.Plotly) {{require(['plotly'],function(plotly) {window.Plotly=plotly;});}}</script>"
      ],
      "text/vnd.plotly.v1+html": [
       "<script>requirejs.config({paths: { 'plotly': ['https://cdn.plot.ly/plotly-latest.min']},});if(!window.Plotly) {{require(['plotly'],function(plotly) {window.Plotly=plotly;});}}</script>"
      ]
     },
     "metadata": {},
     "output_type": "display_data"
    },
    {
     "data": {
      "application/vnd.plotly.v1+json": {
       "data": [
        {
         "text": [
          "and",
          "the",
          "to",
          "i",
          "of",
          "that",
          "a",
          "macb",
          "my",
          "but",
          "d",
          "you",
          "in",
          "is",
          "with",
          "not",
          "what",
          "it",
          "as",
          "enter",
          "for",
          "your",
          "be",
          "our",
          "his"
         ],
         "type": "bar",
         "uid": "2911c870-6613-11e9-b593-8c8590bd53e4",
         "x": [
          "and",
          "the",
          "to",
          "i",
          "of",
          "that",
          "a",
          "macb",
          "my",
          "but",
          "d",
          "you",
          "in",
          "is",
          "with",
          "not",
          "what",
          "it",
          "as",
          "enter",
          "for",
          "your",
          "be",
          "our",
          "his"
         ],
         "y": [
          513,
          390,
          252,
          241,
          198,
          194,
          139,
          137,
          133,
          111,
          110,
          107,
          106,
          100,
          100,
          100,
          91,
          89,
          81,
          80,
          78,
          75,
          74,
          72,
          70
         ]
        }
       ],
       "layout": {}
      },
      "text/html": [
       "<div id=\"6b038ea1-d2eb-46dc-b998-284d26be9e67\" style=\"height: 525px; width: 100%;\" class=\"plotly-graph-div\"></div><script type=\"text/javascript\">require([\"plotly\"], function(Plotly) { window.PLOTLYENV=window.PLOTLYENV || {};window.PLOTLYENV.BASE_URL=\"https://plot.ly\";Plotly.newPlot(\"6b038ea1-d2eb-46dc-b998-284d26be9e67\", [{\"text\": [\"and\", \"the\", \"to\", \"i\", \"of\", \"that\", \"a\", \"macb\", \"my\", \"but\", \"d\", \"you\", \"in\", \"is\", \"with\", \"not\", \"what\", \"it\", \"as\", \"enter\", \"for\", \"your\", \"be\", \"our\", \"his\"], \"x\": [\"and\", \"the\", \"to\", \"i\", \"of\", \"that\", \"a\", \"macb\", \"my\", \"but\", \"d\", \"you\", \"in\", \"is\", \"with\", \"not\", \"what\", \"it\", \"as\", \"enter\", \"for\", \"your\", \"be\", \"our\", \"his\"], \"y\": [513, 390, 252, 241, 198, 194, 139, 137, 133, 111, 110, 107, 106, 100, 100, 100, 91, 89, 81, 80, 78, 75, 74, 72, 70], \"type\": \"bar\", \"uid\": \"29155aba-6613-11e9-a587-8c8590bd53e4\"}], {}, {\"showLink\": true, \"linkText\": \"Export to plot.ly\"})});</script>"
      ],
      "text/vnd.plotly.v1+html": [
       "<div id=\"6b038ea1-d2eb-46dc-b998-284d26be9e67\" style=\"height: 525px; width: 100%;\" class=\"plotly-graph-div\"></div><script type=\"text/javascript\">require([\"plotly\"], function(Plotly) { window.PLOTLYENV=window.PLOTLYENV || {};window.PLOTLYENV.BASE_URL=\"https://plot.ly\";Plotly.newPlot(\"6b038ea1-d2eb-46dc-b998-284d26be9e67\", [{\"text\": [\"and\", \"the\", \"to\", \"i\", \"of\", \"that\", \"a\", \"macb\", \"my\", \"but\", \"d\", \"you\", \"in\", \"is\", \"with\", \"not\", \"what\", \"it\", \"as\", \"enter\", \"for\", \"your\", \"be\", \"our\", \"his\"], \"x\": [\"and\", \"the\", \"to\", \"i\", \"of\", \"that\", \"a\", \"macb\", \"my\", \"but\", \"d\", \"you\", \"in\", \"is\", \"with\", \"not\", \"what\", \"it\", \"as\", \"enter\", \"for\", \"your\", \"be\", \"our\", \"his\"], \"y\": [513, 390, 252, 241, 198, 194, 139, 137, 133, 111, 110, 107, 106, 100, 100, 100, 91, 89, 81, 80, 78, 75, 74, 72, 70], \"type\": \"bar\", \"uid\": \"29155aba-6613-11e9-a587-8c8590bd53e4\"}], {}, {\"showLink\": true, \"linkText\": \"Export to plot.ly\"})});</script>"
      ]
     },
     "metadata": {},
     "output_type": "display_data"
    }
   ],
   "source": [
    "if __name__ == '__main__':\n",
    "   \n",
    "    url = 'http://www.gutenberg.org/cache/epub/2264/pg2264.txt'\n",
    "    my_pattern = r'\\W(\\w+)\\W'\n",
    "    \n",
    "    Macbeth = Corpus(url, my_pattern)\n",
    "    Macbeth.fetch_words()\n",
    "    Macbeth.clean()\n",
    "    Macbeth.count_words()\n",
    "    Macbeth.plotify(25)"
   ]
  },
  {
   "cell_type": "code",
   "execution_count": null,
   "metadata": {},
   "outputs": [],
   "source": []
  }
 ],
 "metadata": {
  "kernelspec": {
   "display_name": "learn-env",
   "language": "python",
   "name": "learn-env"
  },
  "language_info": {
   "codemirror_mode": {
    "name": "ipython",
    "version": 3
   },
   "file_extension": ".py",
   "mimetype": "text/x-python",
   "name": "python",
   "nbconvert_exporter": "python",
   "pygments_lexer": "ipython3",
   "version": "3.6.6"
  }
 },
 "nbformat": 4,
 "nbformat_minor": 2
}
